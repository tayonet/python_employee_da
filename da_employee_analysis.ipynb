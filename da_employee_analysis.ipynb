{
 "cells": [
  {
   "cell_type": "code",
   "execution_count": 3,
   "id": "508a6ed6",
   "metadata": {},
   "outputs": [],
   "source": [
    "import pandas as pd\n",
    "import matplotlib.pyplot as plt"
   ]
  },
  {
   "cell_type": "code",
   "execution_count": 4,
   "id": "dfe3cf30",
   "metadata": {},
   "outputs": [],
   "source": [
    "# pandas dataframe\n",
    "\n",
    "# import data from a csv file\n",
    "\n",
    "employees = pd.read_csv(\"employee_dataset.csv\")"
   ]
  },
  {
   "cell_type": "code",
   "execution_count": 19,
   "id": "b01950dd",
   "metadata": {},
   "outputs": [
    {
     "data": {
      "text/plain": [
       "(100, 7)"
      ]
     },
     "execution_count": 19,
     "metadata": {},
     "output_type": "execute_result"
    }
   ],
   "source": [
    "# show the shape of the dataframe\n",
    "employees.shape\n"
   ]
  },
  {
   "cell_type": "code",
   "execution_count": 20,
   "id": "3f0ca1b3",
   "metadata": {},
   "outputs": [
    {
     "data": {
      "text/plain": [
       "100"
      ]
     },
     "execution_count": 20,
     "metadata": {},
     "output_type": "execute_result"
    }
   ],
   "source": [
    "# show the number of records in the dataset\n",
    "employees.shape[0]"
   ]
  },
  {
   "cell_type": "code",
   "execution_count": null,
   "id": "66e4dad2",
   "metadata": {},
   "outputs": [],
   "source": [
    "# show the structure of the dataset\n",
    "employees.dtypes"
   ]
  },
  {
   "cell_type": "code",
   "execution_count": null,
   "id": "aae23c25",
   "metadata": {},
   "outputs": [],
   "source": [
    "# show the first 5 records in the dataset\n",
    "employees.head(10)"
   ]
  },
  {
   "cell_type": "code",
   "execution_count": null,
   "id": "2aa061bd",
   "metadata": {},
   "outputs": [],
   "source": [
    "# show the last 5 records\n",
    "employees.tail()"
   ]
  },
  {
   "cell_type": "code",
   "execution_count": null,
   "id": "c812b0a9",
   "metadata": {},
   "outputs": [],
   "source": [
    "# showing some columns\n",
    "employees[[\"firstname\",\"lastname\",\"gender\"]]"
   ]
  },
  {
   "cell_type": "code",
   "execution_count": null,
   "id": "fa7866ce",
   "metadata": {},
   "outputs": [],
   "source": [
    "# use  loc[]\n",
    "employees.loc[0:5]"
   ]
  },
  {
   "cell_type": "code",
   "execution_count": null,
   "id": "7f5daac1",
   "metadata": {},
   "outputs": [],
   "source": [
    "# use loc to show records from index 10 to 20\n",
    "employees.loc[10:20]"
   ]
  },
  {
   "cell_type": "code",
   "execution_count": null,
   "id": "5869bfef",
   "metadata": {},
   "outputs": [],
   "source": [
    "employees.loc[10:14 , [\"firstname\",\"lastname\",\"gender\"]]"
   ]
  },
  {
   "cell_type": "code",
   "execution_count": 6,
   "id": "90cdcdb0",
   "metadata": {},
   "outputs": [],
   "source": [
    "# changing the data type of dob and doh\n",
    "\n",
    "employees[\"dob\"] = pd.to_datetime(employees[\"dob\"])"
   ]
  },
  {
   "cell_type": "code",
   "execution_count": null,
   "id": "5662e84a",
   "metadata": {},
   "outputs": [],
   "source": [
    "employees.dtypes"
   ]
  },
  {
   "cell_type": "code",
   "execution_count": 8,
   "id": "ba5ab6c8",
   "metadata": {},
   "outputs": [],
   "source": [
    "employees[\"doh\"] = pd.to_datetime(employees[\"doh\"])"
   ]
  },
  {
   "cell_type": "code",
   "execution_count": 9,
   "id": "f5017f2d",
   "metadata": {},
   "outputs": [],
   "source": [
    "# how to create new columns\n",
    "employees[\"fullname\"] = employees[\"firstname\"] + \" \" + employees[\"lastname\"]"
   ]
  },
  {
   "cell_type": "code",
   "execution_count": null,
   "id": "2c73bf22",
   "metadata": {},
   "outputs": [],
   "source": [
    "employees.head()"
   ]
  },
  {
   "cell_type": "code",
   "execution_count": 9,
   "id": "d8fd3623",
   "metadata": {},
   "outputs": [],
   "source": [
    "# Create a new column that shows the length of each fullname column\n",
    "# call it numchar\n",
    "employees[\"numchar\"] = employees[\"fullname\"].apply(len)"
   ]
  },
  {
   "cell_type": "code",
   "execution_count": null,
   "id": "44738346",
   "metadata": {},
   "outputs": [],
   "source": [
    "employees.head()"
   ]
  },
  {
   "cell_type": "code",
   "execution_count": 11,
   "id": "53ea5a7a",
   "metadata": {},
   "outputs": [],
   "source": [
    "# Deleting a column\n",
    "\n",
    "employees.drop(\"numchar\", axis = 1 , inplace = True)"
   ]
  },
  {
   "cell_type": "code",
   "execution_count": null,
   "id": "ad125f48",
   "metadata": {},
   "outputs": [],
   "source": [
    "employees.head()"
   ]
  },
  {
   "cell_type": "code",
   "execution_count": 10,
   "id": "66dc7983",
   "metadata": {},
   "outputs": [],
   "source": [
    "employees[\"age\"] = pd.Timestamp(\"today\").year - employees[\"dob\"].dt.year"
   ]
  },
  {
   "cell_type": "code",
   "execution_count": null,
   "id": "752b7dde",
   "metadata": {},
   "outputs": [],
   "source": [
    "employees.head()"
   ]
  },
  {
   "cell_type": "code",
   "execution_count": 11,
   "id": "7d9a44ad",
   "metadata": {},
   "outputs": [],
   "source": [
    "# CREATE A NEW COLUMN CALLED year_of_service that shows how long an employee\n",
    "# has worked in an organisation\n",
    "employees[\"year_of_service\"] = pd.Timestamp(\"today\").year - employees[\"doh\"].dt.year"
   ]
  },
  {
   "cell_type": "code",
   "execution_count": null,
   "id": "98ca7537",
   "metadata": {},
   "outputs": [],
   "source": [
    "# the number of male vs female in the dataset\n",
    "\n",
    "employees[\"gender\"].value_counts()"
   ]
  },
  {
   "cell_type": "code",
   "execution_count": null,
   "id": "37bc4070",
   "metadata": {},
   "outputs": [],
   "source": [
    "# the number of employees in each dept\n",
    "employees[\"dept\"].value_counts()"
   ]
  },
  {
   "cell_type": "code",
   "execution_count": null,
   "id": "49b07619",
   "metadata": {},
   "outputs": [],
   "source": [
    "# Sorting\n",
    "employees.sort_values(\"salary\",ascending = False)"
   ]
  },
  {
   "cell_type": "code",
   "execution_count": null,
   "id": "f7107f0a",
   "metadata": {},
   "outputs": [],
   "source": [
    "# SHOW THE TOP 5 SALARY EARNERS \n",
    "employees.sort_values(\"salary\",ascending = False).head()"
   ]
  },
  {
   "cell_type": "code",
   "execution_count": null,
   "id": "fd4ecc78",
   "metadata": {},
   "outputs": [],
   "source": [
    "# SHOW THE bottom 5 SALARY EARNERS \n",
    "employees.sort_values(\"salary\",ascending = True).head()"
   ]
  },
  {
   "cell_type": "code",
   "execution_count": null,
   "id": "c5804ac9",
   "metadata": {},
   "outputs": [],
   "source": [
    "# SHOW THE bottom 5 SALARY EARNERS \n",
    "employees.sort_values(\"salary\",ascending = False).tail()\n",
    "# employees.nsmallest(5,\"salary\")"
   ]
  },
  {
   "cell_type": "code",
   "execution_count": null,
   "id": "68502677",
   "metadata": {},
   "outputs": [],
   "source": [
    "employees.head()"
   ]
  },
  {
   "cell_type": "code",
   "execution_count": null,
   "id": "374e2128",
   "metadata": {},
   "outputs": [],
   "source": [
    "# create  the year of hire column call it hire_year\n",
    "employees[\"hire_year\"] = employees[\"doh\"].dt.year\n",
    "employees.head()"
   ]
  },
  {
   "cell_type": "code",
   "execution_count": null,
   "id": "5d59432c",
   "metadata": {},
   "outputs": [],
   "source": [
    "# create the month of hire column and call it hire_month\n",
    "\n",
    "employees[\"hire_month\"] = employees[\"doh\"].dt.month_name().str[0:3]\n",
    "employees.head()"
   ]
  },
  {
   "cell_type": "code",
   "execution_count": null,
   "id": "d9506691",
   "metadata": {},
   "outputs": [],
   "source": [
    "# create the day of hire column and call it hire_day\n",
    "employees[\"hire_day\"] = employees[\"doh\"].dt.day_name().str[0:3]\n",
    "employees.head()"
   ]
  },
  {
   "cell_type": "code",
   "execution_count": null,
   "id": "421391d0",
   "metadata": {},
   "outputs": [],
   "source": [
    "# show all employees that were hired between Monday and Wednesday\n",
    "employees[employees[\"hire_day\"].isin([\"Mon\",\"Tue\",\"Wed\"])]"
   ]
  },
  {
   "cell_type": "code",
   "execution_count": null,
   "id": "144a1862",
   "metadata": {},
   "outputs": [],
   "source": [
    "# rename the year_of_service column to yos\n",
    "employees.rename(columns= {\"year_of_service\" : \"yos\"}, inplace = True)\n",
    "employees.head()"
   ]
  },
  {
   "cell_type": "code",
   "execution_count": null,
   "id": "ec126141",
   "metadata": {},
   "outputs": [],
   "source": [
    "# show the employees whose year_of_service is less than 5\n",
    "employees[employees[\"yos\"] < 5]"
   ]
  },
  {
   "cell_type": "code",
   "execution_count": null,
   "id": "43923f71",
   "metadata": {},
   "outputs": [],
   "source": [
    "# pick a sample of 5 employees\n",
    "employees.sample(5)"
   ]
  },
  {
   "cell_type": "code",
   "execution_count": null,
   "id": "8b4e9022",
   "metadata": {},
   "outputs": [],
   "source": [
    "# show the summary statistics on the salary column\n",
    "employees[\"salary\"].describe().round(2)"
   ]
  },
  {
   "cell_type": "code",
   "execution_count": null,
   "id": "0178b304",
   "metadata": {},
   "outputs": [],
   "source": [
    "# check for null values in any column\n",
    "employees.isna().any()"
   ]
  },
  {
   "cell_type": "code",
   "execution_count": null,
   "id": "c3066191",
   "metadata": {},
   "outputs": [],
   "source": [
    "# drop rows with missing values\n",
    "employees.dropna().any()"
   ]
  },
  {
   "cell_type": "code",
   "execution_count": null,
   "id": "52e44cdd",
   "metadata": {},
   "outputs": [],
   "source": [
    "# get employees with salaries in the bottom 10%\n",
    "employees[employees[\"salary\"] <= employees[\"salary\"].quantile(0.10)]"
   ]
  },
  {
   "cell_type": "code",
   "execution_count": null,
   "id": "c000efca",
   "metadata": {},
   "outputs": [],
   "source": [
    "# get a summary count of gender in each dept using pd.crosstab()\n",
    "pd.crosstab(employees[\"dept\"],employees[\"gender\"])"
   ]
  },
  {
   "cell_type": "code",
   "execution_count": null,
   "id": "4b64a78d",
   "metadata": {},
   "outputs": [],
   "source": [
    "# show the unique departments in the  dataframe\n",
    "employees[\"dept\"].unique()"
   ]
  },
  {
   "cell_type": "code",
   "execution_count": null,
   "id": "c4e3ab54",
   "metadata": {},
   "outputs": [],
   "source": [
    "# show the number of unique departments in the dataframe\n",
    "employees[\"dept\"].nunique()"
   ]
  },
  {
   "cell_type": "code",
   "execution_count": 158,
   "id": "fba3935b",
   "metadata": {},
   "outputs": [
    {
     "data": {
      "text/plain": [
       "array([2020, 2022, 2017, 2024, 2023, 2021, 2016, 2018, 2019, 2015, 2025],\n",
       "      dtype=int32)"
      ]
     },
     "execution_count": 158,
     "metadata": {},
     "output_type": "execute_result"
    }
   ],
   "source": [
    "# show the  unique hire year in the dataframe\n",
    "employees[\"hire_year\"].unique()"
   ]
  },
  {
   "cell_type": "code",
   "execution_count": 159,
   "id": "7747b4b8",
   "metadata": {},
   "outputs": [
    {
     "data": {
      "text/plain": [
       "11"
      ]
     },
     "execution_count": 159,
     "metadata": {},
     "output_type": "execute_result"
    }
   ],
   "source": [
    "# show the number of unique hire year in the dataframe\n",
    "employees[\"hire_year\"].nunique()"
   ]
  },
  {
   "cell_type": "code",
   "execution_count": null,
   "id": "396f7a71",
   "metadata": {},
   "outputs": [],
   "source": [
    "# show employees who joined on weekends \n",
    "employees[employees[\"hire_day\"].isin([\"Sat\",\"Sun\"])]"
   ]
  },
  {
   "cell_type": "code",
   "execution_count": null,
   "id": "078842d3",
   "metadata": {},
   "outputs": [],
   "source": [
    "# show the employees that were hired between 2016 and 2017\n",
    "employees[employees[\"hire_year\"].between(2016,2017)]"
   ]
  },
  {
   "cell_type": "code",
   "execution_count": null,
   "id": "33456667",
   "metadata": {},
   "outputs": [],
   "source": [
    "# show employees in IT or HR dept that are female\n",
    "employees[(employees[\"dept\"].isin([\"IT\",\"HR\"]))  & (employees[\"gender\"] == \"Female\")]"
   ]
  },
  {
   "cell_type": "code",
   "execution_count": null,
   "id": "c305b5c3",
   "metadata": {},
   "outputs": [],
   "source": [
    "# show the total salary payout for each department\n",
    "# Aggregation using groupby() function\n",
    "employees.groupby(\"dept\")['salary'].sum().reset_index(name = \"total_salary\")"
   ]
  },
  {
   "cell_type": "code",
   "execution_count": null,
   "id": "666ca1aa",
   "metadata": {},
   "outputs": [],
   "source": [
    "# show the maximum salary in each department \n",
    "employees.groupby(\"dept\")[\"salary\"].max()"
   ]
  },
  {
   "cell_type": "code",
   "execution_count": null,
   "id": "2bdfdfef",
   "metadata": {},
   "outputs": [],
   "source": [
    "# show the top 5 employees that earns the highest salary\n",
    "employees.nlargest(5,\"salary\")"
   ]
  },
  {
   "cell_type": "code",
   "execution_count": null,
   "id": "55fa69de",
   "metadata": {},
   "outputs": [],
   "source": [
    "# show the top 5 highest earners in the HR dept\n",
    "employees[employees[\"dept\"] == \"HR\"].nlargest(5,\"salary\")"
   ]
  },
  {
   "cell_type": "code",
   "execution_count": 16,
   "id": "912a43b6",
   "metadata": {},
   "outputs": [
    {
     "data": {
      "text/html": [
       "<div>\n",
       "<style scoped>\n",
       "    .dataframe tbody tr th:only-of-type {\n",
       "        vertical-align: middle;\n",
       "    }\n",
       "\n",
       "    .dataframe tbody tr th {\n",
       "        vertical-align: top;\n",
       "    }\n",
       "\n",
       "    .dataframe thead th {\n",
       "        text-align: right;\n",
       "    }\n",
       "</style>\n",
       "<table border=\"1\" class=\"dataframe\">\n",
       "  <thead>\n",
       "    <tr style=\"text-align: right;\">\n",
       "      <th></th>\n",
       "      <th>firstname</th>\n",
       "      <th>lastname</th>\n",
       "      <th>gender</th>\n",
       "      <th>dob</th>\n",
       "      <th>doh</th>\n",
       "      <th>dept</th>\n",
       "      <th>salary</th>\n",
       "      <th>fullname</th>\n",
       "      <th>age</th>\n",
       "      <th>yos</th>\n",
       "      <th>hire_year</th>\n",
       "      <th>hire_month</th>\n",
       "      <th>hire_day</th>\n",
       "    </tr>\n",
       "  </thead>\n",
       "  <tbody>\n",
       "    <tr>\n",
       "      <th>61</th>\n",
       "      <td>Amber</td>\n",
       "      <td>Ortiz</td>\n",
       "      <td>Male</td>\n",
       "      <td>1998-01-14</td>\n",
       "      <td>2019-01-22</td>\n",
       "      <td>Admin</td>\n",
       "      <td>118934</td>\n",
       "      <td>Amber Ortiz</td>\n",
       "      <td>27</td>\n",
       "      <td>6</td>\n",
       "      <td>2019</td>\n",
       "      <td>Jan</td>\n",
       "      <td>Tue</td>\n",
       "    </tr>\n",
       "  </tbody>\n",
       "</table>\n",
       "</div>"
      ],
      "text/plain": [
       "   firstname lastname gender        dob        doh   dept  salary  \\\n",
       "61     Amber    Ortiz   Male 1998-01-14 2019-01-22  Admin  118934   \n",
       "\n",
       "       fullname  age  yos  hire_year hire_month hire_day  \n",
       "61  Amber Ortiz   27    6       2019        Jan      Tue  "
      ]
     },
     "execution_count": 16,
     "metadata": {},
     "output_type": "execute_result"
    }
   ],
   "source": [
    "# show the employee that earns the highest in the company\n",
    "employees.nlargest(1,\"salary\")"
   ]
  },
  {
   "cell_type": "code",
   "execution_count": null,
   "id": "31f6de38",
   "metadata": {},
   "outputs": [],
   "source": [
    "# show the employee who joined the company earliest in the dataset\n",
    "employees.nsmallest(1,\"doh\")\n",
    "\n",
    "# employees[employees[\"doh\"] == employees[\"doh\"].min()]\n",
    "\n"
   ]
  },
  {
   "cell_type": "code",
   "execution_count": null,
   "id": "26a2cc30",
   "metadata": {},
   "outputs": [],
   "source": [
    "# show the employees in the top 25% salary bracket\n",
    "employees[employees[\"salary\"] >= employees[\"salary\"].quantile(0.75)]"
   ]
  },
  {
   "cell_type": "code",
   "execution_count": null,
   "id": "df35a412",
   "metadata": {},
   "outputs": [],
   "source": [
    "# find the top 4 highest paid employees in each department using groupby() and apply(lambda)\n",
    "employees.groupby(\"dept\").apply(lambda x: x.nlargest(4,\"salary\"))"
   ]
  },
  {
   "cell_type": "code",
   "execution_count": 174,
   "id": "057d2734",
   "metadata": {},
   "outputs": [
    {
     "data": {
      "text/plain": [
       "'HR'"
      ]
     },
     "execution_count": 174,
     "metadata": {},
     "output_type": "execute_result"
    }
   ],
   "source": [
    "# show the dept that has the largest salary payout amongst the others\n",
    "employees.groupby(\"dept\")[\"salary\"].sum().idxmax()"
   ]
  },
  {
   "cell_type": "code",
   "execution_count": null,
   "id": "eb44d7f9",
   "metadata": {},
   "outputs": [],
   "source": [
    "# show the dept that has the lowest salary payout amongst the others\n",
    "employees.groupby(\"dept\")[\"salary\"].sum().idxmin()"
   ]
  },
  {
   "cell_type": "code",
   "execution_count": null,
   "id": "b2c7f3a3",
   "metadata": {},
   "outputs": [],
   "source": [
    "# remove duplicate rows if they exist\n",
    "employees.drop_duplicates()"
   ]
  },
  {
   "cell_type": "code",
   "execution_count": 180,
   "id": "7658f2cd",
   "metadata": {},
   "outputs": [
    {
     "data": {
      "text/plain": [
       "'Admin'"
      ]
     },
     "execution_count": 180,
     "metadata": {},
     "output_type": "execute_result"
    }
   ],
   "source": [
    "# show the dept which has the particular employee that earns the highest in the whole of the company\n",
    "employees.groupby(\"dept\")[\"salary\"].max().idxmax()"
   ]
  },
  {
   "cell_type": "code",
   "execution_count": 182,
   "id": "960375e7",
   "metadata": {},
   "outputs": [
    {
     "data": {
      "text/plain": [
       "'HR'"
      ]
     },
     "execution_count": 182,
     "metadata": {},
     "output_type": "execute_result"
    }
   ],
   "source": [
    "# show the department with the highest number of employees\n",
    "employees.groupby(\"dept\")[\"dept\"].count().idxmax()"
   ]
  },
  {
   "cell_type": "code",
   "execution_count": null,
   "id": "6469b289",
   "metadata": {},
   "outputs": [],
   "source": [
    "# count employees by department and gender using groupby and size() functions\n",
    "employees.groupby([\"dept\",\"gender\"]).size()"
   ]
  },
  {
   "cell_type": "code",
   "execution_count": 6,
   "id": "8077fd09",
   "metadata": {},
   "outputs": [
    {
     "data": {
      "text/html": [
       "<div>\n",
       "<style scoped>\n",
       "    .dataframe tbody tr th:only-of-type {\n",
       "        vertical-align: middle;\n",
       "    }\n",
       "\n",
       "    .dataframe tbody tr th {\n",
       "        vertical-align: top;\n",
       "    }\n",
       "\n",
       "    .dataframe thead th {\n",
       "        text-align: right;\n",
       "    }\n",
       "</style>\n",
       "<table border=\"1\" class=\"dataframe\">\n",
       "  <thead>\n",
       "    <tr style=\"text-align: right;\">\n",
       "      <th></th>\n",
       "      <th>firstname</th>\n",
       "      <th>lastname</th>\n",
       "      <th>gender</th>\n",
       "      <th>dob</th>\n",
       "      <th>doh</th>\n",
       "      <th>dept</th>\n",
       "      <th>salary</th>\n",
       "      <th>salary_levels</th>\n",
       "    </tr>\n",
       "  </thead>\n",
       "  <tbody>\n",
       "    <tr>\n",
       "      <th>0</th>\n",
       "      <td>Megan</td>\n",
       "      <td>Mccoy</td>\n",
       "      <td>Female</td>\n",
       "      <td>1994-09-11</td>\n",
       "      <td>2020-12-22</td>\n",
       "      <td>Admin</td>\n",
       "      <td>47673</td>\n",
       "      <td>low_earners</td>\n",
       "    </tr>\n",
       "    <tr>\n",
       "      <th>1</th>\n",
       "      <td>Katherine</td>\n",
       "      <td>Bruce</td>\n",
       "      <td>Female</td>\n",
       "      <td>1968-09-25</td>\n",
       "      <td>2020-06-23</td>\n",
       "      <td>IT</td>\n",
       "      <td>61474</td>\n",
       "      <td>average_earners</td>\n",
       "    </tr>\n",
       "    <tr>\n",
       "      <th>2</th>\n",
       "      <td>Robert</td>\n",
       "      <td>Sanchez</td>\n",
       "      <td>Male</td>\n",
       "      <td>1982-01-11</td>\n",
       "      <td>2022-06-10</td>\n",
       "      <td>HR</td>\n",
       "      <td>93154</td>\n",
       "      <td>high_earners</td>\n",
       "    </tr>\n",
       "    <tr>\n",
       "      <th>3</th>\n",
       "      <td>Jonathan</td>\n",
       "      <td>Dennis</td>\n",
       "      <td>Female</td>\n",
       "      <td>1975-02-13</td>\n",
       "      <td>2017-03-27</td>\n",
       "      <td>Sales</td>\n",
       "      <td>76166</td>\n",
       "      <td>high_earners</td>\n",
       "    </tr>\n",
       "    <tr>\n",
       "      <th>4</th>\n",
       "      <td>William</td>\n",
       "      <td>Wilson</td>\n",
       "      <td>Female</td>\n",
       "      <td>1994-10-06</td>\n",
       "      <td>2017-01-28</td>\n",
       "      <td>Admin</td>\n",
       "      <td>109971</td>\n",
       "      <td>high_earners</td>\n",
       "    </tr>\n",
       "  </tbody>\n",
       "</table>\n",
       "</div>"
      ],
      "text/plain": [
       "   firstname lastname  gender         dob         doh   dept  salary  \\\n",
       "0      Megan    Mccoy  Female  1994-09-11  2020-12-22  Admin   47673   \n",
       "1  Katherine    Bruce  Female  1968-09-25  2020-06-23     IT   61474   \n",
       "2     Robert  Sanchez    Male  1982-01-11  2022-06-10     HR   93154   \n",
       "3   Jonathan   Dennis  Female  1975-02-13  2017-03-27  Sales   76166   \n",
       "4    William   Wilson  Female  1994-10-06  2017-01-28  Admin  109971   \n",
       "\n",
       "     salary_levels  \n",
       "0      low_earners  \n",
       "1  average_earners  \n",
       "2     high_earners  \n",
       "3     high_earners  \n",
       "4     high_earners  "
      ]
     },
     "execution_count": 6,
     "metadata": {},
     "output_type": "execute_result"
    }
   ],
   "source": [
    "# create a new column called salary_levels. The values will be low_earners for those whose \n",
    "# salaries between 30000 and 50000, average_earners for salaries between 50000 and 75000, and high_earners\n",
    "# for those whose salaries are above 75000 and up to 140000\n",
    "\n",
    "employees[\"salary_levels\"] = pd.cut(employees[\"salary\"], bins = [30000,50000,75000,140000],\n",
    "                  labels= [\"low_earners\",\"average_earners\",\"high_earners\"])\n",
    "employees.head()\n"
   ]
  },
  {
   "cell_type": "code",
   "execution_count": null,
   "id": "184d82e6",
   "metadata": {},
   "outputs": [],
   "source": [
    "# show all employees that are high earners\n",
    "employees[employees[\"salary_levels\"] == \"high_earners\"]"
   ]
  },
  {
   "cell_type": "code",
   "execution_count": 7,
   "id": "666fd13a",
   "metadata": {},
   "outputs": [
    {
     "data": {
      "text/html": [
       "<div>\n",
       "<style scoped>\n",
       "    .dataframe tbody tr th:only-of-type {\n",
       "        vertical-align: middle;\n",
       "    }\n",
       "\n",
       "    .dataframe tbody tr th {\n",
       "        vertical-align: top;\n",
       "    }\n",
       "\n",
       "    .dataframe thead th {\n",
       "        text-align: right;\n",
       "    }\n",
       "</style>\n",
       "<table border=\"1\" class=\"dataframe\">\n",
       "  <thead>\n",
       "    <tr style=\"text-align: right;\">\n",
       "      <th></th>\n",
       "      <th>salary_levels</th>\n",
       "      <th>count of employees</th>\n",
       "    </tr>\n",
       "  </thead>\n",
       "  <tbody>\n",
       "    <tr>\n",
       "      <th>0</th>\n",
       "      <td>high_earners</td>\n",
       "      <td>50</td>\n",
       "    </tr>\n",
       "    <tr>\n",
       "      <th>1</th>\n",
       "      <td>low_earners</td>\n",
       "      <td>25</td>\n",
       "    </tr>\n",
       "    <tr>\n",
       "      <th>2</th>\n",
       "      <td>average_earners</td>\n",
       "      <td>25</td>\n",
       "    </tr>\n",
       "  </tbody>\n",
       "</table>\n",
       "</div>"
      ],
      "text/plain": [
       "     salary_levels  count of employees\n",
       "0     high_earners                  50\n",
       "1      low_earners                  25\n",
       "2  average_earners                  25"
      ]
     },
     "execution_count": 7,
     "metadata": {},
     "output_type": "execute_result"
    }
   ],
   "source": [
    "# show the number of employees in each salary level\n",
    "employees[\"salary_levels\"].value_counts().reset_index(name = \"count of employees\")"
   ]
  },
  {
   "cell_type": "code",
   "execution_count": null,
   "id": "fa5f6362",
   "metadata": {},
   "outputs": [],
   "source": [
    "# show the total number of employees hired in each month of the year 2020\n",
    "employees[employees[\"hire_year\"] == 2020][\"hire_month\"].value_counts().reset_index(name = \"count\")\n"
   ]
  },
  {
   "cell_type": "code",
   "execution_count": null,
   "id": "db3054bd",
   "metadata": {},
   "outputs": [],
   "source": [
    "# show the total employees hired in each year \n",
    "# employees.groupby([\"hire_year\",\"hire_month\"])[\"hire_year\"].value_counts()\n",
    "pd.crosstab(employees[\"hire_year\"],employees[\"hire_month\"])"
   ]
  },
  {
   "cell_type": "code",
   "execution_count": 90,
   "id": "551c87f4",
   "metadata": {},
   "outputs": [
    {
     "data": {
      "text/html": [
       "<div>\n",
       "<style scoped>\n",
       "    .dataframe tbody tr th:only-of-type {\n",
       "        vertical-align: middle;\n",
       "    }\n",
       "\n",
       "    .dataframe tbody tr th {\n",
       "        vertical-align: top;\n",
       "    }\n",
       "\n",
       "    .dataframe thead th {\n",
       "        text-align: right;\n",
       "    }\n",
       "</style>\n",
       "<table border=\"1\" class=\"dataframe\">\n",
       "  <thead>\n",
       "    <tr style=\"text-align: right;\">\n",
       "      <th></th>\n",
       "      <th>gender</th>\n",
       "      <th>average salary</th>\n",
       "    </tr>\n",
       "  </thead>\n",
       "  <tbody>\n",
       "    <tr>\n",
       "      <th>0</th>\n",
       "      <td>Female</td>\n",
       "      <td>71620.34</td>\n",
       "    </tr>\n",
       "    <tr>\n",
       "      <th>1</th>\n",
       "      <td>Male</td>\n",
       "      <td>78000.60</td>\n",
       "    </tr>\n",
       "  </tbody>\n",
       "</table>\n",
       "</div>"
      ],
      "text/plain": [
       "   gender  average salary\n",
       "0  Female        71620.34\n",
       "1    Male        78000.60"
      ]
     },
     "execution_count": 90,
     "metadata": {},
     "output_type": "execute_result"
    }
   ],
   "source": [
    "# get average salary by gender\n",
    "employees.groupby(\"gender\")[\"salary\"].mean().reset_index(name=\"average salary\")"
   ]
  },
  {
   "cell_type": "code",
   "execution_count": null,
   "id": "a6b3a688",
   "metadata": {},
   "outputs": [],
   "source": [
    "# get average salary by dept and then by gender using groupby function\n",
    "\n",
    "employees.groupby([\"dept\",\"gender\"])[\"salary\"].sum().reset_index(name=\"average salary\").round(2)"
   ]
  },
  {
   "cell_type": "code",
   "execution_count": null,
   "id": "899410d8",
   "metadata": {},
   "outputs": [],
   "source": [
    "# get average salary by dept and then by gender using crosstab function\n",
    "pd.crosstab(employees[\"dept\"],employees[\"gender\"],employees[\"salary\"],aggfunc=sum)"
   ]
  },
  {
   "cell_type": "code",
   "execution_count": null,
   "id": "afca7181",
   "metadata": {},
   "outputs": [],
   "source": [
    "# get all employees with fullname starting with A\n",
    "employees[employees[\"fullname\"].str.startswith(\"A\")]"
   ]
  },
  {
   "cell_type": "code",
   "execution_count": null,
   "id": "4ba0f0e3",
   "metadata": {},
   "outputs": [],
   "source": [
    "# get the first 3 letter of the employees fullname\n",
    "\n",
    "employees[\"fullname\"].str[0:3]"
   ]
  },
  {
   "cell_type": "code",
   "execution_count": null,
   "id": "3b43156a",
   "metadata": {},
   "outputs": [],
   "source": [
    "# create a salary rank column that ranks salary using the rank() function, call it salary_rank \n",
    "employees[\"salary_rank\"] = employees[\"salary\"].rank(ascending= False).astype(int)\n",
    "employees.head()"
   ]
  },
  {
   "cell_type": "code",
   "execution_count": 101,
   "id": "86fde2f1",
   "metadata": {},
   "outputs": [],
   "source": [
    "# save the dataset in a csv file using the to_csv() function\n",
    "employees.to_csv(\"employees_analysed.csv\", index = False)\n"
   ]
  },
  {
   "cell_type": "code",
   "execution_count": null,
   "id": "872cec65",
   "metadata": {},
   "outputs": [],
   "source": [
    "# sort the employees dataset by salary rank column\n",
    "employees.sort_values(\"salary_rank\", ascending= True)"
   ]
  },
  {
   "cell_type": "code",
   "execution_count": null,
   "id": "8399f8c6",
   "metadata": {},
   "outputs": [],
   "source": [
    "# create a new column called salary_increase and apply 10% salary increase to all\n",
    "employees[\"salary_increase\"] = employees[\"salary\"] * 1.10\n",
    "employees.head()\n"
   ]
  },
  {
   "cell_type": "code",
   "execution_count": null,
   "id": "2b5fb1eb",
   "metadata": {},
   "outputs": [],
   "source": [
    "# find the second highest salary earner in the company\n",
    "employees[employees[\"salary_rank\"] == 2]\n",
    "\n",
    "# employees.nlargest(2,\"salary\").tail(1)\n"
   ]
  },
  {
   "cell_type": "code",
   "execution_count": null,
   "id": "12284cb1",
   "metadata": {},
   "outputs": [],
   "source": [
    "# show the mean, min , max and count of salaries by dept using the agg() function\n",
    "\n",
    "employees.groupby(\"dept\")[\"salary\"].agg([\"mean\",\"min\",\"max\",\"count\"]).round(2)\n"
   ]
  },
  {
   "cell_type": "code",
   "execution_count": null,
   "id": "c429689d",
   "metadata": {},
   "outputs": [
    {
     "name": "stderr",
     "output_type": "stream",
     "text": [
      "C:\\Users\\HP\\AppData\\Local\\Temp\\ipykernel_9124\\1554147259.py:3: FutureWarning: The provided callable <built-in function max> is currently using DataFrameGroupBy.max. In a future version of pandas, the provided callable will be used directly. To keep current behavior pass the string \"max\" instead.\n",
      "  employees.pivot_table(index= \"gender\", columns= \"dept\",values = \"salary\",aggfunc=max)\n"
     ]
    },
    {
     "data": {
      "text/html": [
       "<div>\n",
       "<style scoped>\n",
       "    .dataframe tbody tr th:only-of-type {\n",
       "        vertical-align: middle;\n",
       "    }\n",
       "\n",
       "    .dataframe tbody tr th {\n",
       "        vertical-align: top;\n",
       "    }\n",
       "\n",
       "    .dataframe thead th {\n",
       "        text-align: right;\n",
       "    }\n",
       "</style>\n",
       "<table border=\"1\" class=\"dataframe\">\n",
       "  <thead>\n",
       "    <tr style=\"text-align: right;\">\n",
       "      <th>dept</th>\n",
       "      <th>Admin</th>\n",
       "      <th>Finance</th>\n",
       "      <th>HR</th>\n",
       "      <th>IT</th>\n",
       "      <th>Marketing</th>\n",
       "      <th>Sales</th>\n",
       "    </tr>\n",
       "    <tr>\n",
       "      <th>gender</th>\n",
       "      <th></th>\n",
       "      <th></th>\n",
       "      <th></th>\n",
       "      <th></th>\n",
       "      <th></th>\n",
       "      <th></th>\n",
       "    </tr>\n",
       "  </thead>\n",
       "  <tbody>\n",
       "    <tr>\n",
       "      <th>Female</th>\n",
       "      <td>115299</td>\n",
       "      <td>101901</td>\n",
       "      <td>107368</td>\n",
       "      <td>113545</td>\n",
       "      <td>118313</td>\n",
       "      <td>118264</td>\n",
       "    </tr>\n",
       "    <tr>\n",
       "      <th>Male</th>\n",
       "      <td>118934</td>\n",
       "      <td>118573</td>\n",
       "      <td>115664</td>\n",
       "      <td>115100</td>\n",
       "      <td>103584</td>\n",
       "      <td>99251</td>\n",
       "    </tr>\n",
       "  </tbody>\n",
       "</table>\n",
       "</div>"
      ],
      "text/plain": [
       "dept     Admin  Finance      HR      IT  Marketing   Sales\n",
       "gender                                                    \n",
       "Female  115299   101901  107368  113545     118313  118264\n",
       "Male    118934   118573  115664  115100     103584   99251"
      ]
     },
     "execution_count": 112,
     "metadata": {},
     "output_type": "execute_result"
    }
   ],
   "source": [
    "# Use pivot_table() function to show max salary by gender/department\n",
    "# use the following named parameters - values,index,columns and aggfunc\n",
    "employees.pivot_table(index= \"gender\", columns= \"dept\",values = \"salary\",aggfunc=max)\n"
   ]
  }
 ],
 "metadata": {
  "kernelspec": {
   "display_name": "Python 3",
   "language": "python",
   "name": "python3"
  },
  "language_info": {
   "codemirror_mode": {
    "name": "ipython",
    "version": 3
   },
   "file_extension": ".py",
   "mimetype": "text/x-python",
   "name": "python",
   "nbconvert_exporter": "python",
   "pygments_lexer": "ipython3",
   "version": "3.10.0"
  }
 },
 "nbformat": 4,
 "nbformat_minor": 5
}
